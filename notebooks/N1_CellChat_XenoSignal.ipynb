{
 "cells": [
  {
   "cell_type": "markdown",
   "metadata": {},
   "source": [
    "# Notebook 1: Generating the XenoSignal Initial Dataset"
   ]
  },
  {
   "cell_type": "markdown",
   "metadata": {},
   "source": [
    "Build the initial XenoSignal dataset from CellChat ligand–receptor interactions. We start with same-species pairs (mouse-only, human-only), expand them to cross-species directions (mouse→human, human→mouse) using ortholog mapping, resolve protein identifiers/sequences, and package job manifests for AlphaFold3.\n",
    "\n",
    "**Inputs**\n",
    "\n",
    "* `./Data/cellchat_data/` (CellChat LR interactions)\n",
    "* `./Data/orthologs/` (ortholog mapping tables)\n",
    "\n",
    "**Output**\n",
    "\n",
    "* `./xenosignal_jobs.zip`\n",
    "\n",
    "## Outline\n",
    "\n",
    "1. **Generate Using Ortholog**\n",
    "   Expand CellChat interactions to cross-species pairs via gene orthologs; keep directionality and record mapping provenance.\n",
    "2. **Convert to Proteins**\n",
    "   Map genes to protein IDs (e.g., UniProt/Ensembl) and sequences; validate and deduplicate ligand–receptor protein pairs.\n",
    "3. **Prepare for AlphaFold3**\n",
    "   Assemble per-pair job specs (metadata + sequences), organize run folders, and archive everything into `xenosignal_jobs.zip` for submission.\n"
   ]
  },
  {
   "cell_type": "markdown",
   "metadata": {},
   "source": [
    "## 1. Generate Using Ortholog"
   ]
  },
  {
   "cell_type": "code",
   "execution_count": 1,
   "metadata": {},
   "outputs": [],
   "source": [
    "import os\n",
    "import pandas as pd\n",
    "import numpy as np\n",
    "\n",
    "# Function to apply the conversion\n",
    "def convert_value(value, conversion_dict):\n",
    "    if pd.isna(value):  # Ignore NaN values\n",
    "        return np.nan\n",
    "    return conversion_dict.get(value, [value])  # If value in dict, return list, otherwise wrap it in a list\n",
    "\n",
    "# Function to create complex and cofactor dictionaries from CSVs\n",
    "def load_dict_from_csv(file_path):\n",
    "    df = pd.read_csv(file_path, index_col=0)\n",
    "    return {index: row.dropna().tolist() for index, row in df.iterrows()}\n",
    "\n",
    "# Function to apply complex and cofactor lists for multiple columns\n",
    "def apply_conversions(df, complex_dict, cofactor_dict):\n",
    "        # Apply conversions for human data\n",
    "    convert_columns = {\n",
    "        'complex': ['ligand', 'receptor'],\n",
    "        'cofactor': ['agonist', 'antagonist', 'co_A_receptor', 'co_I_receptor']\n",
    "    }\n",
    "    for col in convert_columns['complex']:\n",
    "        df[f'{col}_list'] = df[col].apply(lambda x: convert_value(x, complex_dict))\n",
    "    for col in convert_columns['cofactor']:\n",
    "        df[f'{col}_list'] = df[col].apply(lambda x: convert_value(x, cofactor_dict))\n",
    "\n",
    "# Base directory for data files\n",
    "base_dir = \"repos/CellChat/data\"\n",
    "\n",
    "# Load data and create human complex/cofactor dictionaries\n",
    "human_complex_dict = load_dict_from_csv(os.path.join(base_dir, 'CellChatDB.human_complex.csv'))\n",
    "human_cofactor_dict = load_dict_from_csv(os.path.join(base_dir, 'CellChatDB.human_cofactor.csv'))\n",
    "\n",
    "# Load mouse complex/cofactor dictionaries\n",
    "mouse_complex_dict = load_dict_from_csv(os.path.join(base_dir, 'CellChatDB.mouse_complex.csv'))\n",
    "mouse_cofactor_dict = load_dict_from_csv(os.path.join(base_dir, 'CellChatDB.mouse_cofactor.csv'))\n",
    "\n",
    "# Read human interaction data\n",
    "human_df = pd.read_csv(os.path.join(base_dir, 'CellChatDB.human_interaction.csv'))\n",
    "human_df['ligand_type'] = \"GRCh38\"\n",
    "human_df['receptor_type'] = \"GRCh38\"\n",
    "\n",
    "\n",
    "# Read mouse interaction data\n",
    "mouse_df = pd.read_csv(os.path.join(base_dir, 'CellChatDB.mouse_interaction.csv'))\n",
    "mouse_df['ligand_type'] = \"mm10\"\n",
    "mouse_df['receptor_type'] = \"mm10\"\n",
    "\n",
    "apply_conversions(human_df, human_complex_dict, human_cofactor_dict)\n",
    "apply_conversions(mouse_df, mouse_complex_dict, mouse_cofactor_dict)\n",
    "\n",
    "# Merge the human and mouse dataframes\n",
    "merged_df = pd.concat([human_df, mouse_df])\n",
    "# merged_df.to_csv(\"cell-cell-data/merged_interaction_v2024.csv\", index=False)\n"
   ]
  },
  {
   "cell_type": "code",
   "execution_count": null,
   "metadata": {},
   "outputs": [
    {
     "name": "stdout",
     "output_type": "stream",
     "text": [
      "Number of unique genes: 2821\n"
     ]
    },
    {
     "ename": "",
     "evalue": "",
     "output_type": "error",
     "traceback": [
      "\u001b[1;31mThe Kernel crashed while executing code in the current cell or a previous cell. \n",
      "\u001b[1;31mPlease review the code in the cell(s) to identify a possible cause of the failure. \n",
      "\u001b[1;31mClick <a href='https://aka.ms/vscodeJupyterKernelCrash'>here</a> for more info. \n",
      "\u001b[1;31mView Jupyter <a href='command:jupyter.viewOutput'>log</a> for further details."
     ]
    }
   ],
   "source": [
    "# Flatten all lists in both columns into a single list\n",
    "all_items = sum(merged_df[\"ligand_list\"], []) + sum(merged_df[\"receptor_list\"], [])\n",
    "unique_items = set(all_items)\n",
    "num_unique_items = len(unique_items)\n",
    "print(f\"Number of unique genes: {num_unique_items}\")"
   ]
  },
  {
   "cell_type": "code",
   "execution_count": null,
   "metadata": {},
   "outputs": [
    {
     "name": "stderr",
     "output_type": "stream",
     "text": [
      "C:\\Users\\alyos\\AppData\\Local\\Temp\\ipykernel_29768\\976647354.py:20: FutureWarning: DataFrame.applymap has been deprecated. Use DataFrame.map instead.\n",
      "  orthologs_df = orthologs_df.applymap(lambda s: s if type(s) == str else s)\n"
     ]
    },
    {
     "name": "stdout",
     "output_type": "stream",
     "text": [
      "18758 18308\n",
      "101764 18323\n",
      "83996\n",
      "1455\n"
     ]
    }
   ],
   "source": [
    "def get_niches_orthologs_map(orthologs_file, organism = 'mm'):\n",
    "    orthologs_df = pd.read_csv(os.path.join(orthologs_file), index_col=0)\n",
    "    if (organism == 'hg'):\n",
    "        orthologs_dict = orthologs_df.set_index('symbol')['symbol_mouse'].to_dict()\n",
    "    else:\n",
    "        orthologs_dict = orthologs_df.set_index('symbol_mouse')['symbol'].to_dict()\n",
    "    return orthologs_dict\n",
    "\n",
    "\n",
    "def get_orthologs_map(orthologs_file, organism = 'mm'):\n",
    "    # obj._code = {\"human\": 9606, \"rat\": 10116, \"mouse\": 10090}[value].\n",
    "    # Another resource http://www.informatics.jax.org/downloads/reports/HOM_MouseHumanSequence.rpt\n",
    "    # Downloading orthologs file if it does not exist:\n",
    "    # orthologs_file = 'https://data.broadinstitute.org/gsea-msigdb/msigdb/annotations_versioned/Mouse_Gene_Symbol_Remapping_Human_Orthologs_MSigDB.v7.5.1.chip'\n",
    "\n",
    "    # loading orthologs file:\n",
    "    orthologs_df = pd.read_csv(os.path.join(orthologs_file), sep='\\t', compression='infer', low_memory=False)\n",
    "    orthologs_df.rename(columns={'Probe Set ID': 'Mm gene symbol', 'Gene Symbol': 'Hs gene symbol'}, inplace=True)\n",
    "    orthologs_df.drop('Gene Title', axis=1, inplace=True)\n",
    "    orthologs_df = orthologs_df.applymap(lambda s: s if type(s) == str else s)\n",
    "\n",
    "    if (organism == 'hg'):\n",
    "        orthologs_dict = orthologs_df.set_index('Hs gene symbol')['Mm gene symbol'].to_dict()\n",
    "    else:\n",
    "        orthologs_dict = orthologs_df.set_index('Mm gene symbol')['Hs gene symbol'].to_dict()\n",
    "    return orthologs_dict\n",
    "\n",
    "\n",
    "gene_mouse_dict_msig_db = get_orthologs_map(orthologs_file =\"cell-cell-data/orthologs/Mouse_Gene_Symbol_Remapping_Human_Orthologs_MSigDB.v7.5.1.chip\",organism ='mm') \n",
    "gene_mouse_dict_reverse_msig_db = {v: k for k, v in gene_mouse_dict_msig_db.items()}\n",
    "\n",
    "gene_mouse_dict = get_niches_orthologs_map(orthologs_file =\"cell-cell-data/orthologs/nichenet_info_human.csv\",organism ='mm') \n",
    "gene_mouse_dict_reverse = get_niches_orthologs_map(orthologs_file =\"cell-cell-data/orthologs/nichenet_info_human.csv\",organism ='hg') \n",
    "\n",
    "\n",
    "print(len(gene_mouse_dict), len(gene_mouse_dict_reverse))\n",
    "print(len(gene_mouse_dict_msig_db), len(gene_mouse_dict_reverse_msig_db))\n",
    "\n",
    "count = 0\n",
    "for key, value in gene_mouse_dict_msig_db.items():\n",
    "    # If the key is not present in gene_mouse_dict, add it\n",
    "    if key not in gene_mouse_dict:\n",
    "        count+=1\n",
    "        gene_mouse_dict[key] = value\n",
    "print(count)\n",
    "\n",
    "count = 0\n",
    "for key, value in gene_mouse_dict_reverse_msig_db.items():\n",
    "    # If the key is not present in gene_mouse_dict, add it\n",
    "    if key not in gene_mouse_dict_reverse:\n",
    "        count+=1\n",
    "        gene_mouse_dict_reverse[key] = value\n",
    "print(count)\n",
    "\n",
    "### MISSING ORTHOLOGS\n",
    "\n",
    "missing_orth_genes = pd.read_csv(\"cell-cell-data/orthologs/missing_ortho_genes.csv\", index_col=0,header=None)[1].to_dict()"
   ]
  },
  {
   "cell_type": "code",
   "execution_count": 23,
   "metadata": {},
   "outputs": [],
   "source": [
    "# Function to convert genes based on type\n",
    "def convert_gene(gene, conversion_dict):\n",
    "    converted_gene = conversion_dict.get(gene, \"\")\n",
    "    if(converted_gene == \"\"):\n",
    "        converted_gene = missing_orth_genes[gene]\n",
    "    return converted_gene\n",
    "\n",
    "# Function to convert rows based on source_type and target_type\n",
    "def replicate_and_convert(row, convert_type):\n",
    "    new_row = row.copy()\n",
    "\n",
    "    new_row[f'{convert_type}_list'] = [\n",
    "        convert_gene(g, gene_mouse_dict_reverse) if row[f'{convert_type}_type'] == 'GRCh38' else convert_gene(g, gene_mouse_dict)\n",
    "        for g in row[f'{convert_type}_list']\n",
    "    ]\n",
    "    new_row[f'{convert_type}_type'] = 'mm10' if row[f'{convert_type}_type'] == 'GRCh38' else 'GRCh38'\n",
    "\n",
    "    return new_row\n",
    "\n",
    "\n",
    "# Apply the conversion for ligands (source)\n",
    "new_rows_1 = merged_df.apply(replicate_and_convert, axis=1, convert_type=\"ligand\")\n",
    "# Apply the conversion for receptors (target)\n",
    "new_rows_2 = merged_df.apply(replicate_and_convert, axis=1, convert_type=\"receptor\")\n",
    "# Append new rows to the original dataframe\n",
    "ortho_merged_df = pd.concat([merged_df, new_rows_1, new_rows_2], ignore_index=True)\n",
    "# ortho_merged_df.to_csv(\"cell-cell-data/cellchat_interactions_ortho_v2024.csv\", index=False)\n"
   ]
  },
  {
   "cell_type": "code",
   "execution_count": 26,
   "metadata": {},
   "outputs": [
    {
     "data": {
      "text/plain": [
       "19839"
      ]
     },
     "execution_count": 26,
     "metadata": {},
     "output_type": "execute_result"
    }
   ],
   "source": [
    "len(ortho_merged_df)"
   ]
  },
  {
   "cell_type": "markdown",
   "metadata": {},
   "source": [
    "## 2. Convert to Protiens"
   ]
  },
  {
   "cell_type": "code",
   "execution_count": 29,
   "metadata": {},
   "outputs": [
    {
     "name": "stdout",
     "output_type": "stream",
     "text": [
      "2983\n"
     ]
    }
   ],
   "source": [
    "import os\n",
    "import pandas as pd\n",
    "import ast  # To safely evaluate strings that represent lists\n",
    "\n",
    "# Function to parse string to list, leaving NaN values unchanged\n",
    "def parse_list_column(column):\n",
    "    return column.apply(lambda x: ast.literal_eval(x) if pd.notna(x) and isinstance(x, str) else x)\n",
    "\n",
    "\n",
    "df_pairs = pd.read_csv(os.path.join(\"cell-cell-data\", \"cellchat_interactions_ortho_v2024.csv\"))\n",
    "for column in df_pairs.columns:\n",
    "    if(\"list\" in column):\n",
    "        df_pairs[column] = parse_list_column(df_pairs[column] )\n",
    "\n",
    "\n",
    "unique_genes = set()\n",
    "for index, row in df_pairs.iterrows():\n",
    "    for g in row[\"ligand_list\"]:\n",
    "        unique_genes.add((g, row[\"ligand_type\"]))\n",
    "\n",
    "    for g in row[\"receptor_list\"]:\n",
    "        unique_genes.add((g, row[\"receptor_type\"]))\n",
    "\n",
    "print(len(unique_genes))"
   ]
  },
  {
   "cell_type": "code",
   "execution_count": 17,
   "metadata": {},
   "outputs": [
    {
     "name": "stderr",
     "output_type": "stream",
     "text": [
      "  2%|▏         | 46/2983 [00:40<31:03,  1.58it/s]  "
     ]
    },
    {
     "name": "stdout",
     "output_type": "stream",
     "text": [
      "No protein found for gene Ccl3l1 in Mus musculus.\n"
     ]
    },
    {
     "name": "stderr",
     "output_type": "stream",
     "text": [
      "  2%|▏         | 51/2983 [00:44<31:17,  1.56it/s]"
     ]
    },
    {
     "name": "stdout",
     "output_type": "stream",
     "text": [
      "No protein found for gene Ccl15 in Mus musculus.\n"
     ]
    },
    {
     "name": "stderr",
     "output_type": "stream",
     "text": [
      "  4%|▍         | 112/2983 [01:40<33:48,  1.42it/s] "
     ]
    },
    {
     "name": "stdout",
     "output_type": "stream",
     "text": [
      "No protein found for gene H2-T25 in Homo sapiens.\n"
     ]
    },
    {
     "name": "stderr",
     "output_type": "stream",
     "text": [
      "  4%|▍         | 119/2983 [01:47<41:55,  1.14it/s]"
     ]
    },
    {
     "name": "stdout",
     "output_type": "stream",
     "text": [
      "No protein found for gene H2-T27 in Homo sapiens.\n"
     ]
    },
    {
     "name": "stderr",
     "output_type": "stream",
     "text": [
      "  8%|▊         | 226/2983 [03:17<31:07,  1.48it/s]"
     ]
    },
    {
     "name": "stdout",
     "output_type": "stream",
     "text": [
      "No protein found for gene Klra11 in Mus musculus.\n"
     ]
    },
    {
     "name": "stderr",
     "output_type": "stream",
     "text": [
      "  8%|▊         | 233/2983 [03:22<28:19,  1.62it/s]"
     ]
    },
    {
     "name": "stdout",
     "output_type": "stream",
     "text": [
      "No protein found for gene Ccl21e in Homo sapiens.\n"
     ]
    },
    {
     "name": "stderr",
     "output_type": "stream",
     "text": [
      "  9%|▊         | 257/2983 [03:41<30:24,  1.49it/s]"
     ]
    },
    {
     "name": "stdout",
     "output_type": "stream",
     "text": [
      "No protein found for gene Sirpb1c in Homo sapiens.\n"
     ]
    },
    {
     "name": "stderr",
     "output_type": "stream",
     "text": [
      "  9%|▊         | 261/2983 [03:44<28:58,  1.57it/s]"
     ]
    },
    {
     "name": "stdout",
     "output_type": "stream",
     "text": [
      "No protein found for gene LOC230398 in Mus musculus.\n"
     ]
    },
    {
     "name": "stderr",
     "output_type": "stream",
     "text": [
      " 10%|▉         | 293/2983 [04:11<30:56,  1.45it/s]"
     ]
    },
    {
     "name": "stdout",
     "output_type": "stream",
     "text": [
      "No protein found for gene Il26 in Mus musculus.\n"
     ]
    },
    {
     "name": "stderr",
     "output_type": "stream",
     "text": [
      " 12%|█▏        | 354/2983 [05:03<28:23,  1.54it/s]"
     ]
    },
    {
     "name": "stdout",
     "output_type": "stream",
     "text": [
      "No protein found for gene Ceacam8 in Mus musculus.\n"
     ]
    },
    {
     "name": "stderr",
     "output_type": "stream",
     "text": [
      " 12%|█▏        | 355/2983 [05:04<24:31,  1.79it/s]"
     ]
    },
    {
     "name": "stdout",
     "output_type": "stream",
     "text": [
      "No protein found for gene LOC68165 in Mus musculus.\n"
     ]
    },
    {
     "name": "stderr",
     "output_type": "stream",
     "text": [
      " 13%|█▎        | 385/2983 [05:32<29:37,  1.46it/s]  "
     ]
    },
    {
     "name": "stdout",
     "output_type": "stream",
     "text": [
      "No protein found for gene Gm5868 in Mus musculus.\n"
     ]
    },
    {
     "name": "stderr",
     "output_type": "stream",
     "text": [
      " 14%|█▎        | 403/2983 [05:47<28:51,  1.49it/s]"
     ]
    },
    {
     "name": "stdout",
     "output_type": "stream",
     "text": [
      "No protein found for gene Prss3l in Homo sapiens.\n"
     ]
    },
    {
     "name": "stderr",
     "output_type": "stream",
     "text": [
      " 15%|█▍        | 433/2983 [06:11<26:11,  1.62it/s]"
     ]
    },
    {
     "name": "stdout",
     "output_type": "stream",
     "text": [
      "No protein found for gene H60b in Homo sapiens.\n"
     ]
    },
    {
     "name": "stderr",
     "output_type": "stream",
     "text": [
      " 15%|█▍        | 445/2983 [06:20<26:57,  1.57it/s]"
     ]
    },
    {
     "name": "stdout",
     "output_type": "stream",
     "text": [
      "No protein found for gene H2-T22 in Homo sapiens.\n"
     ]
    },
    {
     "name": "stderr",
     "output_type": "stream",
     "text": [
      " 15%|█▌        | 462/2983 [06:35<27:01,  1.55it/s]"
     ]
    },
    {
     "name": "stdout",
     "output_type": "stream",
     "text": [
      "No protein found for gene H2-T-ps in Mus musculus.\n"
     ]
    },
    {
     "name": "stderr",
     "output_type": "stream",
     "text": [
      " 16%|█▋        | 486/2983 [06:56<27:54,  1.49it/s]"
     ]
    },
    {
     "name": "stdout",
     "output_type": "stream",
     "text": [
      "No protein found for gene LOC230403 in Mus musculus.\n"
     ]
    },
    {
     "name": "stderr",
     "output_type": "stream",
     "text": [
      " 16%|█▋        | 489/2983 [06:57<24:45,  1.68it/s]"
     ]
    },
    {
     "name": "stdout",
     "output_type": "stream",
     "text": [
      "No protein found for gene LOC14599 in Mus musculus.\n"
     ]
    },
    {
     "name": "stderr",
     "output_type": "stream",
     "text": [
      " 17%|█▋        | 513/2983 [07:37<4:28:52,  6.53s/it]"
     ]
    },
    {
     "name": "stdout",
     "output_type": "stream",
     "text": [
      "An error occurred: Fas\tRemote end closed connection without response\n"
     ]
    },
    {
     "name": "stderr",
     "output_type": "stream",
     "text": [
      " 18%|█▊        | 526/2983 [07:49<32:39,  1.25it/s]  "
     ]
    },
    {
     "name": "stdout",
     "output_type": "stream",
     "text": [
      "No protein found for gene Raet1b in Homo sapiens.\n"
     ]
    },
    {
     "name": "stderr",
     "output_type": "stream",
     "text": [
      " 19%|█▉        | 565/2983 [08:23<29:31,  1.37it/s]"
     ]
    },
    {
     "name": "stdout",
     "output_type": "stream",
     "text": [
      "No protein found for gene H60a in Homo sapiens.\n"
     ]
    },
    {
     "name": "stderr",
     "output_type": "stream",
     "text": [
      " 19%|█▉        | 571/2983 [08:28<28:16,  1.42it/s]"
     ]
    },
    {
     "name": "stdout",
     "output_type": "stream",
     "text": [
      "No protein found for gene H2-M11 in Homo sapiens.\n"
     ]
    },
    {
     "name": "stderr",
     "output_type": "stream",
     "text": [
      " 20%|██        | 599/2983 [08:53<29:10,  1.36it/s]"
     ]
    },
    {
     "name": "stdout",
     "output_type": "stream",
     "text": [
      "No protein found for gene Ceacam6 in Mus musculus.\n"
     ]
    },
    {
     "name": "stderr",
     "output_type": "stream",
     "text": [
      " 20%|██        | 602/2983 [08:55<26:37,  1.49it/s]"
     ]
    },
    {
     "name": "stdout",
     "output_type": "stream",
     "text": [
      "No protein found for gene LOC230396 in Mus musculus.\n"
     ]
    },
    {
     "name": "stderr",
     "output_type": "stream",
     "text": [
      " 22%|██▏       | 666/2983 [09:54<29:31,  1.31it/s]"
     ]
    },
    {
     "name": "stdout",
     "output_type": "stream",
     "text": [
      "No protein found for gene Gm15448 in Mus musculus.\n"
     ]
    },
    {
     "name": "stderr",
     "output_type": "stream",
     "text": [
      " 23%|██▎       | 697/2983 [10:23<35:13,  1.08it/s]"
     ]
    },
    {
     "name": "stdout",
     "output_type": "stream",
     "text": [
      "No protein found for gene H2-M9 in Homo sapiens.\n"
     ]
    },
    {
     "name": "stderr",
     "output_type": "stream",
     "text": [
      " 24%|██▎       | 708/2983 [10:32<25:53,  1.46it/s]"
     ]
    },
    {
     "name": "stdout",
     "output_type": "stream",
     "text": [
      "No protein found for gene LOC245615 in Mus musculus.\n"
     ]
    },
    {
     "name": "stderr",
     "output_type": "stream",
     "text": [
      " 27%|██▋       | 814/2983 [12:12<25:07,  1.44it/s]"
     ]
    },
    {
     "name": "stdout",
     "output_type": "stream",
     "text": [
      "No protein found for gene Adgre2 in Mus musculus.\n"
     ]
    },
    {
     "name": "stderr",
     "output_type": "stream",
     "text": [
      " 28%|██▊       | 841/2983 [12:37<25:30,  1.40it/s]"
     ]
    },
    {
     "name": "stdout",
     "output_type": "stream",
     "text": [
      "No protein found for gene H2-L in Homo sapiens.\n"
     ]
    },
    {
     "name": "stderr",
     "output_type": "stream",
     "text": [
      " 29%|██▉       | 879/2983 [13:15<40:16,  1.15s/it]"
     ]
    },
    {
     "name": "stdout",
     "output_type": "stream",
     "text": [
      "No protein found for gene Ncr3-ps in Mus musculus.\n"
     ]
    },
    {
     "name": "stderr",
     "output_type": "stream",
     "text": [
      " 33%|███▎      | 970/2983 [14:38<24:47,  1.35it/s]"
     ]
    },
    {
     "name": "stdout",
     "output_type": "stream",
     "text": [
      "No protein found for gene LOC545655 in Mus musculus.\n"
     ]
    },
    {
     "name": "stderr",
     "output_type": "stream",
     "text": [
      " 35%|███▍      | 1037/2983 [15:41<24:54,  1.30it/s]"
     ]
    },
    {
     "name": "stdout",
     "output_type": "stream",
     "text": [
      "No protein found for gene Fpr-rs6 in Homo sapiens.\n"
     ]
    },
    {
     "name": "stderr",
     "output_type": "stream",
     "text": [
      " 35%|███▌      | 1057/2983 [15:58<22:20,  1.44it/s]"
     ]
    },
    {
     "name": "stdout",
     "output_type": "stream",
     "text": [
      "No protein found for gene LOC242517 in Mus musculus.\n"
     ]
    },
    {
     "name": "stderr",
     "output_type": "stream",
     "text": [
      " 37%|███▋      | 1118/2983 [16:52<21:56,  1.42it/s]"
     ]
    },
    {
     "name": "stdout",
     "output_type": "stream",
     "text": [
      "No protein found for gene Htr1e in Mus musculus.\n"
     ]
    },
    {
     "name": "stderr",
     "output_type": "stream",
     "text": [
      " 38%|███▊      | 1137/2983 [17:09<22:37,  1.36it/s]"
     ]
    },
    {
     "name": "stdout",
     "output_type": "stream",
     "text": [
      "No protein found for gene LOC330122 in Mus musculus.\n"
     ]
    },
    {
     "name": "stderr",
     "output_type": "stream",
     "text": [
      " 39%|███▉      | 1160/2983 [17:29<21:50,  1.39it/s]"
     ]
    },
    {
     "name": "stdout",
     "output_type": "stream",
     "text": [
      "No protein found for gene Cd200r3 in Homo sapiens.\n"
     ]
    },
    {
     "name": "stderr",
     "output_type": "stream",
     "text": [
      " 39%|███▉      | 1170/2983 [17:37<22:06,  1.37it/s]"
     ]
    },
    {
     "name": "stdout",
     "output_type": "stream",
     "text": [
      "No protein found for gene Ccl14 in Mus musculus.\n"
     ]
    },
    {
     "name": "stderr",
     "output_type": "stream",
     "text": [
      " 40%|████      | 1195/2983 [17:59<21:48,  1.37it/s]"
     ]
    },
    {
     "name": "stdout",
     "output_type": "stream",
     "text": [
      "No protein found for gene H2-T24 in Homo sapiens.\n"
     ]
    },
    {
     "name": "stderr",
     "output_type": "stream",
     "text": [
      " 41%|████      | 1223/2983 [18:24<20:20,  1.44it/s]"
     ]
    },
    {
     "name": "stdout",
     "output_type": "stream",
     "text": [
      "No protein found for gene Ccl16 in Mus musculus.\n"
     ]
    },
    {
     "name": "stderr",
     "output_type": "stream",
     "text": [
      " 42%|████▏     | 1257/2983 [18:55<20:21,  1.41it/s]"
     ]
    },
    {
     "name": "stdout",
     "output_type": "stream",
     "text": [
      "No protein found for gene Htr3d in Mus musculus.\n"
     ]
    },
    {
     "name": "stderr",
     "output_type": "stream",
     "text": [
      " 43%|████▎     | 1281/2983 [19:17<20:18,  1.40it/s]"
     ]
    },
    {
     "name": "stdout",
     "output_type": "stream",
     "text": [
      "No protein found for gene H2-M10.2 in Homo sapiens.\n"
     ]
    },
    {
     "name": "stderr",
     "output_type": "stream",
     "text": [
      " 44%|████▎     | 1300/2983 [19:32<19:42,  1.42it/s]"
     ]
    },
    {
     "name": "stdout",
     "output_type": "stream",
     "text": [
      "No protein found for gene Gm21104 in Mus musculus.\n"
     ]
    },
    {
     "name": "stderr",
     "output_type": "stream",
     "text": [
      " 45%|████▍     | 1330/2983 [20:01<22:20,  1.23it/s]"
     ]
    },
    {
     "name": "stdout",
     "output_type": "stream",
     "text": [
      "No protein found for gene Trhr2 in Homo sapiens.\n"
     ]
    },
    {
     "name": "stderr",
     "output_type": "stream",
     "text": [
      " 45%|████▍     | 1333/2983 [20:03<18:56,  1.45it/s]"
     ]
    },
    {
     "name": "stdout",
     "output_type": "stream",
     "text": [
      "No protein found for gene H2-T18 in Homo sapiens.\n"
     ]
    },
    {
     "name": "stderr",
     "output_type": "stream",
     "text": [
      " 45%|████▌     | 1352/2983 [20:19<19:49,  1.37it/s]"
     ]
    },
    {
     "name": "stdout",
     "output_type": "stream",
     "text": [
      "No protein found for gene LOC242519 in Mus musculus.\n"
     ]
    },
    {
     "name": "stderr",
     "output_type": "stream",
     "text": [
      " 46%|████▌     | 1360/2983 [20:26<19:13,  1.41it/s]"
     ]
    },
    {
     "name": "stdout",
     "output_type": "stream",
     "text": [
      "No protein found for gene H2-Q9 in Homo sapiens.\n"
     ]
    },
    {
     "name": "stderr",
     "output_type": "stream",
     "text": [
      " 46%|████▋     | 1387/2983 [20:50<20:21,  1.31it/s]"
     ]
    },
    {
     "name": "stdout",
     "output_type": "stream",
     "text": [
      "No protein found for gene LOC215728 in Mus musculus.\n"
     ]
    },
    {
     "name": "stderr",
     "output_type": "stream",
     "text": [
      " 47%|████▋     | 1405/2983 [21:06<19:09,  1.37it/s]"
     ]
    },
    {
     "name": "stdout",
     "output_type": "stream",
     "text": [
      "No protein found for gene H2-T18 in Mus musculus.\n"
     ]
    },
    {
     "name": "stderr",
     "output_type": "stream",
     "text": [
      " 48%|████▊     | 1444/2983 [21:41<18:53,  1.36it/s]"
     ]
    },
    {
     "name": "stdout",
     "output_type": "stream",
     "text": [
      "No protein found for gene Cbr1b in Homo sapiens.\n"
     ]
    },
    {
     "name": "stderr",
     "output_type": "stream",
     "text": [
      " 49%|████▉     | 1474/2983 [22:08<18:34,  1.35it/s]"
     ]
    },
    {
     "name": "stdout",
     "output_type": "stream",
     "text": [
      "No protein found for gene H2-M1 in Homo sapiens.\n"
     ]
    },
    {
     "name": "stderr",
     "output_type": "stream",
     "text": [
      " 50%|████▉     | 1481/2983 [22:14<18:13,  1.37it/s]"
     ]
    },
    {
     "name": "stdout",
     "output_type": "stream",
     "text": [
      "No protein found for gene Pcdha4b in Homo sapiens.\n"
     ]
    },
    {
     "name": "stderr",
     "output_type": "stream",
     "text": [
      " 50%|████▉     | 1488/2983 [22:20<17:14,  1.44it/s]"
     ]
    },
    {
     "name": "stdout",
     "output_type": "stream",
     "text": [
      "No protein found for gene Ccl21d in Homo sapiens.\n"
     ]
    },
    {
     "name": "stderr",
     "output_type": "stream",
     "text": [
      " 51%|█████     | 1513/2983 [22:43<18:45,  1.31it/s]"
     ]
    },
    {
     "name": "stdout",
     "output_type": "stream",
     "text": [
      "No protein found for gene Cbr1b in Mus musculus.\n"
     ]
    },
    {
     "name": "stderr",
     "output_type": "stream",
     "text": [
      " 52%|█████▏    | 1542/2983 [23:08<18:02,  1.33it/s]"
     ]
    },
    {
     "name": "stdout",
     "output_type": "stream",
     "text": [
      "No protein found for gene Ulbp2 in Mus musculus.\n"
     ]
    },
    {
     "name": "stderr",
     "output_type": "stream",
     "text": [
      " 52%|█████▏    | 1551/2983 [23:16<16:02,  1.49it/s]"
     ]
    },
    {
     "name": "stdout",
     "output_type": "stream",
     "text": [
      "No protein found for gene Clec2b in Mus musculus.\n"
     ]
    },
    {
     "name": "stderr",
     "output_type": "stream",
     "text": [
      " 53%|█████▎    | 1567/2983 [23:30<17:58,  1.31it/s]"
     ]
    },
    {
     "name": "stdout",
     "output_type": "stream",
     "text": [
      "No protein found for gene Lilrb1 in Mus musculus.\n"
     ]
    },
    {
     "name": "stderr",
     "output_type": "stream",
     "text": [
      " 54%|█████▍    | 1611/2983 [24:12<17:03,  1.34it/s]"
     ]
    },
    {
     "name": "stdout",
     "output_type": "stream",
     "text": [
      "No protein found for gene H2-T9 in Homo sapiens.\n"
     ]
    },
    {
     "name": "stderr",
     "output_type": "stream",
     "text": [
      " 56%|█████▌    | 1660/2983 [24:58<19:39,  1.12it/s]"
     ]
    },
    {
     "name": "stdout",
     "output_type": "stream",
     "text": [
      "No protein found for gene Ccl21f in Homo sapiens.\n"
     ]
    },
    {
     "name": "stderr",
     "output_type": "stream",
     "text": [
      " 58%|█████▊    | 1721/2983 [25:53<16:01,  1.31it/s]"
     ]
    },
    {
     "name": "stdout",
     "output_type": "stream",
     "text": [
      "No protein found for gene mt-Rnr2 in Mus musculus.\n"
     ]
    },
    {
     "name": "stderr",
     "output_type": "stream",
     "text": [
      " 59%|█████▊    | 1750/2983 [26:20<14:37,  1.40it/s]"
     ]
    },
    {
     "name": "stdout",
     "output_type": "stream",
     "text": [
      "No protein found for gene Ccl21 in Mus musculus.\n"
     ]
    },
    {
     "name": "stderr",
     "output_type": "stream",
     "text": [
      " 59%|█████▉    | 1763/2983 [26:31<14:43,  1.38it/s]"
     ]
    },
    {
     "name": "stdout",
     "output_type": "stream",
     "text": [
      "No protein found for gene LOC100861969 in Mus musculus.\n"
     ]
    },
    {
     "name": "stderr",
     "output_type": "stream",
     "text": [
      " 61%|██████    | 1822/2983 [27:26<14:05,  1.37it/s]"
     ]
    },
    {
     "name": "stdout",
     "output_type": "stream",
     "text": [
      "No protein found for gene H2-T10 in Homo sapiens.\n"
     ]
    },
    {
     "name": "stderr",
     "output_type": "stream",
     "text": [
      " 63%|██████▎   | 1873/2983 [28:12<14:02,  1.32it/s]"
     ]
    },
    {
     "name": "stdout",
     "output_type": "stream",
     "text": [
      "No protein found for gene Gja6 in Homo sapiens.\n"
     ]
    },
    {
     "name": "stderr",
     "output_type": "stream",
     "text": [
      " 64%|██████▎   | 1896/2983 [28:33<12:44,  1.42it/s]"
     ]
    },
    {
     "name": "stdout",
     "output_type": "stream",
     "text": [
      "No protein found for gene OTTMUSG00000007662 in Mus musculus.\n"
     ]
    },
    {
     "name": "stderr",
     "output_type": "stream",
     "text": [
      " 66%|██████▌   | 1965/2983 [29:36<12:24,  1.37it/s]"
     ]
    },
    {
     "name": "stdout",
     "output_type": "stream",
     "text": [
      "No protein found for gene Il37 in Mus musculus.\n"
     ]
    },
    {
     "name": "stderr",
     "output_type": "stream",
     "text": [
      " 66%|██████▌   | 1972/2983 [29:43<12:21,  1.36it/s]"
     ]
    },
    {
     "name": "stdout",
     "output_type": "stream",
     "text": [
      "No protein found for gene H2-T26 in Homo sapiens.\n"
     ]
    },
    {
     "name": "stderr",
     "output_type": "stream",
     "text": [
      " 67%|██████▋   | 2007/2983 [30:14<11:38,  1.40it/s]"
     ]
    },
    {
     "name": "stdout",
     "output_type": "stream",
     "text": [
      "No protein found for gene H2-M10.5 in Homo sapiens.\n"
     ]
    },
    {
     "name": "stderr",
     "output_type": "stream",
     "text": [
      " 68%|██████▊   | 2025/2983 [30:31<11:40,  1.37it/s]"
     ]
    },
    {
     "name": "stdout",
     "output_type": "stream",
     "text": [
      "No protein found for gene LOC321021 in Mus musculus.\n"
     ]
    },
    {
     "name": "stderr",
     "output_type": "stream",
     "text": [
      " 68%|██████▊   | 2043/2983 [30:47<11:11,  1.40it/s]"
     ]
    },
    {
     "name": "stdout",
     "output_type": "stream",
     "text": [
      "No protein found for gene LOC15974 in Mus musculus.\n"
     ]
    },
    {
     "name": "stderr",
     "output_type": "stream",
     "text": [
      " 69%|██████▉   | 2059/2983 [31:02<11:22,  1.35it/s]"
     ]
    },
    {
     "name": "stdout",
     "output_type": "stream",
     "text": [
      "No protein found for gene Raet1g in Mus musculus.\n"
     ]
    },
    {
     "name": "stderr",
     "output_type": "stream",
     "text": [
      " 73%|███████▎  | 2170/2983 [32:46<09:37,  1.41it/s]"
     ]
    },
    {
     "name": "stdout",
     "output_type": "stream",
     "text": [
      "No protein found for gene Gm5678 in Mus musculus.\n"
     ]
    },
    {
     "name": "stderr",
     "output_type": "stream",
     "text": [
      " 73%|███████▎  | 2173/2983 [32:48<09:51,  1.37it/s]"
     ]
    },
    {
     "name": "stdout",
     "output_type": "stream",
     "text": [
      "No protein found for gene LOC15968 in Mus musculus.\n"
     ]
    },
    {
     "name": "stderr",
     "output_type": "stream",
     "text": [
      " 73%|███████▎  | 2188/2983 [33:02<10:49,  1.22it/s]"
     ]
    },
    {
     "name": "stdout",
     "output_type": "stream",
     "text": [
      "No protein found for gene Fpr-rs4 in Homo sapiens.\n"
     ]
    },
    {
     "name": "stderr",
     "output_type": "stream",
     "text": [
      " 74%|███████▎  | 2193/2983 [33:06<09:27,  1.39it/s]"
     ]
    },
    {
     "name": "stdout",
     "output_type": "stream",
     "text": [
      "No protein found for gene H2-D in Homo sapiens.\n"
     ]
    },
    {
     "name": "stderr",
     "output_type": "stream",
     "text": [
      " 74%|███████▍  | 2201/2983 [33:13<12:01,  1.08it/s]"
     ]
    },
    {
     "name": "stdout",
     "output_type": "stream",
     "text": [
      "No protein found for gene H2-M10.4 in Homo sapiens.\n"
     ]
    },
    {
     "name": "stderr",
     "output_type": "stream",
     "text": [
      " 75%|███████▍  | 2224/2983 [33:35<08:41,  1.46it/s]"
     ]
    },
    {
     "name": "stdout",
     "output_type": "stream",
     "text": [
      "No protein found for gene Gm5160 in Mus musculus.\n"
     ]
    },
    {
     "name": "stderr",
     "output_type": "stream",
     "text": [
      " 78%|███████▊  | 2316/2983 [34:58<08:23,  1.33it/s]"
     ]
    },
    {
     "name": "stdout",
     "output_type": "stream",
     "text": [
      "No protein found for gene LOC406211 in Mus musculus.\n"
     ]
    },
    {
     "name": "stderr",
     "output_type": "stream",
     "text": [
      " 79%|███████▉  | 2357/2983 [35:36<07:24,  1.41it/s]"
     ]
    },
    {
     "name": "stdout",
     "output_type": "stream",
     "text": [
      "No protein found for gene Sirpg in Mus musculus.\n"
     ]
    },
    {
     "name": "stderr",
     "output_type": "stream",
     "text": [
      " 81%|████████  | 2402/2983 [36:16<07:11,  1.35it/s]"
     ]
    },
    {
     "name": "stdout",
     "output_type": "stream",
     "text": [
      "No protein found for gene Htr3e in Mus musculus.\n"
     ]
    },
    {
     "name": "stderr",
     "output_type": "stream",
     "text": [
      " 81%|████████  | 2406/2983 [36:19<07:02,  1.37it/s]"
     ]
    },
    {
     "name": "stdout",
     "output_type": "stream",
     "text": [
      "No protein found for gene LOC638105 in Mus musculus.\n"
     ]
    },
    {
     "name": "stderr",
     "output_type": "stream",
     "text": [
      " 81%|████████  | 2410/2983 [36:23<07:42,  1.24it/s]"
     ]
    },
    {
     "name": "stdout",
     "output_type": "stream",
     "text": [
      "No protein found for gene H2-Q8 in Homo sapiens.\n"
     ]
    },
    {
     "name": "stderr",
     "output_type": "stream",
     "text": [
      " 83%|████████▎ | 2472/2983 [37:19<06:22,  1.34it/s]"
     ]
    },
    {
     "name": "stdout",
     "output_type": "stream",
     "text": [
      "No protein found for gene Lilrb2 in Mus musculus.\n"
     ]
    },
    {
     "name": "stderr",
     "output_type": "stream",
     "text": [
      " 85%|████████▌ | 2540/2983 [38:20<05:38,  1.31it/s]"
     ]
    },
    {
     "name": "stdout",
     "output_type": "stream",
     "text": [
      "No protein found for gene Fpr-rs3 in Homo sapiens.\n"
     ]
    },
    {
     "name": "stderr",
     "output_type": "stream",
     "text": [
      " 87%|████████▋ | 2600/2983 [39:16<05:08,  1.24it/s]"
     ]
    },
    {
     "name": "stdout",
     "output_type": "stream",
     "text": [
      "No protein found for gene Ccl18 in Mus musculus.\n"
     ]
    },
    {
     "name": "stderr",
     "output_type": "stream",
     "text": [
      " 88%|████████▊ | 2613/2983 [39:27<04:36,  1.34it/s]"
     ]
    },
    {
     "name": "stdout",
     "output_type": "stream",
     "text": [
      "No protein found for gene H2-M2 in Homo sapiens.\n"
     ]
    },
    {
     "name": "stderr",
     "output_type": "stream",
     "text": [
      " 89%|████████▉ | 2657/2983 [40:05<03:56,  1.38it/s]"
     ]
    },
    {
     "name": "stdout",
     "output_type": "stream",
     "text": [
      "No protein found for gene Pgr15l in Homo sapiens.\n"
     ]
    },
    {
     "name": "stderr",
     "output_type": "stream",
     "text": [
      " 91%|█████████ | 2712/2983 [40:56<03:26,  1.31it/s]"
     ]
    },
    {
     "name": "stdout",
     "output_type": "stream",
     "text": [
      "No protein found for gene LOC547343 in Mus musculus.\n"
     ]
    },
    {
     "name": "stderr",
     "output_type": "stream",
     "text": [
      " 92%|█████████▏| 2745/2983 [41:28<02:53,  1.37it/s]"
     ]
    },
    {
     "name": "stdout",
     "output_type": "stream",
     "text": [
      "No protein found for gene Klra in Homo sapiens.\n"
     ]
    },
    {
     "name": "stderr",
     "output_type": "stream",
     "text": [
      " 93%|█████████▎| 2767/2983 [41:48<02:34,  1.40it/s]"
     ]
    },
    {
     "name": "stdout",
     "output_type": "stream",
     "text": [
      "No protein found for gene H2-M10.6 in Homo sapiens.\n"
     ]
    },
    {
     "name": "stderr",
     "output_type": "stream",
     "text": [
      " 94%|█████████▍| 2806/2983 [42:23<02:06,  1.40it/s]"
     ]
    },
    {
     "name": "stdout",
     "output_type": "stream",
     "text": [
      "No protein found for gene Klra in Mus musculus.\n"
     ]
    },
    {
     "name": "stderr",
     "output_type": "stream",
     "text": [
      " 94%|█████████▍| 2812/2983 [42:29<02:29,  1.14it/s]"
     ]
    },
    {
     "name": "stdout",
     "output_type": "stream",
     "text": [
      "No protein found for gene Htr3c in Mus musculus.\n"
     ]
    },
    {
     "name": "stderr",
     "output_type": "stream",
     "text": [
      " 95%|█████████▍| 2824/2983 [42:39<01:50,  1.43it/s]"
     ]
    },
    {
     "name": "stdout",
     "output_type": "stream",
     "text": [
      "No protein found for gene H2-M10.3 in Homo sapiens.\n"
     ]
    },
    {
     "name": "stderr",
     "output_type": "stream",
     "text": [
      " 95%|█████████▌| 2840/2983 [42:54<01:46,  1.34it/s]"
     ]
    },
    {
     "name": "stdout",
     "output_type": "stream",
     "text": [
      "No protein found for gene H2-M5 in Homo sapiens.\n"
     ]
    },
    {
     "name": "stderr",
     "output_type": "stream",
     "text": [
      " 96%|█████████▌| 2849/2983 [43:02<01:48,  1.23it/s]"
     ]
    },
    {
     "name": "stdout",
     "output_type": "stream",
     "text": [
      "No protein found for gene Cxcl8 in Mus musculus.\n"
     ]
    },
    {
     "name": "stderr",
     "output_type": "stream",
     "text": [
      " 96%|█████████▋| 2873/2983 [43:24<01:21,  1.35it/s]"
     ]
    },
    {
     "name": "stdout",
     "output_type": "stream",
     "text": [
      "No protein found for gene Cd209f in Homo sapiens.\n"
     ]
    },
    {
     "name": "stderr",
     "output_type": "stream",
     "text": [
      " 97%|█████████▋| 2898/2983 [43:47<01:01,  1.39it/s]"
     ]
    },
    {
     "name": "stdout",
     "output_type": "stream",
     "text": [
      "No protein found for gene LOC15965 in Mus musculus.\n"
     ]
    },
    {
     "name": "stderr",
     "output_type": "stream",
     "text": [
      " 99%|█████████▊| 2942/2983 [44:30<00:30,  1.36it/s]"
     ]
    },
    {
     "name": "stdout",
     "output_type": "stream",
     "text": [
      "No protein found for gene Raet1l in Mus musculus.\n"
     ]
    },
    {
     "name": "stderr",
     "output_type": "stream",
     "text": [
      "100%|██████████| 2983/2983 [45:09<00:00,  1.10it/s]\n"
     ]
    }
   ],
   "source": [
    "from Bio import Entrez, SeqIO\n",
    "import tqdm\n",
    "# Set your email to use Entrez\n",
    "Entrez.email = \"aly.abdelkareem1@ucalgary.ca\"  # Replace with your email\n",
    "\n",
    "# Dictionary to map species codes to scientific names\n",
    "species_mapping = {\n",
    "    \"GRCh38\": \"Homo sapiens\",\n",
    "    \"mm10\": \"Mus musculus\"\n",
    "}\n",
    "\n",
    "def fetch_protein_sequence_from_formatted_gene(gene_name, species_code):\n",
    "    \"\"\"\n",
    "    Fetch the protein sequence from NCBI based on a formatted gene name.\n",
    "\n",
    "    Parameters:\n",
    "        formatted_gene (str): Gene name in the format \"<species_code>-<gene_name>\", \n",
    "                              e.g., \"GRCh38-TGFB1\" for human TGFB1 gene,\n",
    "                              \"mm10-Angptl1\" for mouse Angptl1 gene.\n",
    "\n",
    "    Returns:\n",
    "        str: The protein sequence if found; otherwise, an error message.\n",
    "    \"\"\"\n",
    "    try:\n",
    "\n",
    "        # Get the species name from the species code\n",
    "        species_name = species_mapping.get(species_code)\n",
    "        \n",
    "        # Check if the species code is valid\n",
    "        if not species_name: \n",
    "            return f\"Unknown species code: {species_code}. Please use a valid code (e.g., 'GRCh38' or 'mm10').\"\n",
    "        \n",
    "        # Construct the search query for NCBI\n",
    "        query = f\"{gene_name}[Gene Name] AND {species_name}[Organism]\"\n",
    "        \n",
    "        # Search the protein database with the given gene name and species\n",
    "        handle = Entrez.esearch(db=\"protein\", term=query)\n",
    "        record = Entrez.read(handle)\n",
    "        handle.close()\n",
    "        \n",
    "        # If no results found, return a message\n",
    "        if not record[\"IdList\"]:\n",
    "            print(f\"No protein found for gene {gene_name} in {species_name}.\")\n",
    "            return None\n",
    "        \n",
    "        # Get the first protein ID\n",
    "        protein_id = record[\"IdList\"][0]\n",
    "        \n",
    "        # Fetch the protein sequence using the protein ID\n",
    "        handle = Entrez.efetch(db=\"protein\", id=protein_id, rettype=\"fasta\", retmode=\"text\")\n",
    "        seq_record = SeqIO.read(handle, \"fasta\")\n",
    "        handle.close()\n",
    "        \n",
    "        # Return the protein sequence\n",
    "        return protein_id, seq_record\n",
    "    \n",
    "    except ValueError:\n",
    "        print(f\"Invalid input format. {gene_name}'.\")\n",
    "        return None\n",
    "    except Exception as e:\n",
    "        print(f\"An error occurred: {gene_name}\\t{str(e)}\")\n",
    "        return None\n",
    "\n",
    "gene_portein_dict = {}\n",
    "for gene, species_code in tqdm.tqdm(unique_genes):\n",
    "    gene_portein_dict[gene] = fetch_protein_sequence_from_formatted_gene(gene, species_code)"
   ]
  },
  {
   "cell_type": "code",
   "execution_count": 34,
   "metadata": {},
   "outputs": [
    {
     "data": {
      "text/html": [
       "<div>\n",
       "<style scoped>\n",
       "    .dataframe tbody tr th:only-of-type {\n",
       "        vertical-align: middle;\n",
       "    }\n",
       "\n",
       "    .dataframe tbody tr th {\n",
       "        vertical-align: top;\n",
       "    }\n",
       "\n",
       "    .dataframe thead th {\n",
       "        text-align: right;\n",
       "    }\n",
       "</style>\n",
       "<table border=\"1\" class=\"dataframe\">\n",
       "  <thead>\n",
       "    <tr style=\"text-align: right;\">\n",
       "      <th></th>\n",
       "      <th>Key</th>\n",
       "      <th>Entrez_protein_id</th>\n",
       "      <th>ID</th>\n",
       "      <th>Sequence</th>\n",
       "      <th>Name</th>\n",
       "      <th>Description</th>\n",
       "      <th>DBxRefs</th>\n",
       "      <th>Gene Name</th>\n",
       "      <th>Species</th>\n",
       "    </tr>\n",
       "  </thead>\n",
       "  <tbody>\n",
       "    <tr>\n",
       "      <th>0</th>\n",
       "      <td>Fras1</td>\n",
       "      <td>126157515</td>\n",
       "      <td>NP_780682.3</td>\n",
       "      <td>MGVLKAWLGVALALAEFAVLPNCEGACLYQGSFLADATIWKPDSCQ...</td>\n",
       "      <td>NP_780682.3</td>\n",
       "      <td>NP_780682.3 extracellular matrix organizing pr...</td>\n",
       "      <td>[]</td>\n",
       "      <td>Fras1</td>\n",
       "      <td>mm10</td>\n",
       "    </tr>\n",
       "    <tr>\n",
       "      <th>1</th>\n",
       "      <td>Ifna13</td>\n",
       "      <td>81871051</td>\n",
       "      <td>sp|Q80SU4.1|IFNAD_MOUSE</td>\n",
       "      <td>MARPCAFLMVLVVLSYWSACSLGCDLPQTHNLRNKRALTLLEQMRR...</td>\n",
       "      <td>sp|Q80SU4.1|IFNAD_MOUSE</td>\n",
       "      <td>sp|Q80SU4.1|IFNAD_MOUSE RecName: Full=Interfer...</td>\n",
       "      <td>[]</td>\n",
       "      <td>Ifna13</td>\n",
       "      <td>mm10</td>\n",
       "    </tr>\n",
       "    <tr>\n",
       "      <th>2</th>\n",
       "      <td>Adgrl1</td>\n",
       "      <td>157739867</td>\n",
       "      <td>NP_851382.2</td>\n",
       "      <td>MARLAAALWSLCVTTVLVTSATQGLSRAGLPFGLMRRELACEGYPI...</td>\n",
       "      <td>NP_851382.2</td>\n",
       "      <td>NP_851382.2 adhesion G protein-coupled recepto...</td>\n",
       "      <td>[]</td>\n",
       "      <td>Adgrl1</td>\n",
       "      <td>mm10</td>\n",
       "    </tr>\n",
       "    <tr>\n",
       "      <th>3</th>\n",
       "      <td>Erbb2</td>\n",
       "      <td>54873610</td>\n",
       "      <td>NP_001003817.1</td>\n",
       "      <td>MELAAWCRWGFLLALLSPGAAGTQVCTGTDMKLRLPASPETHLDML...</td>\n",
       "      <td>NP_001003817.1</td>\n",
       "      <td>NP_001003817.1 receptor tyrosine-protein kinas...</td>\n",
       "      <td>[]</td>\n",
       "      <td>Erbb2</td>\n",
       "      <td>mm10</td>\n",
       "    </tr>\n",
       "    <tr>\n",
       "      <th>4</th>\n",
       "      <td>Lamb1</td>\n",
       "      <td>1666305206</td>\n",
       "      <td>NP_032508.3</td>\n",
       "      <td>MGLLQVFAFGVLALWGTRVCAQEPEFSYGCAEGSCYPATGDLLIGR...</td>\n",
       "      <td>NP_032508.3</td>\n",
       "      <td>NP_032508.3 laminin subunit beta-1 precursor [...</td>\n",
       "      <td>[]</td>\n",
       "      <td>Lamb1</td>\n",
       "      <td>mm10</td>\n",
       "    </tr>\n",
       "  </tbody>\n",
       "</table>\n",
       "</div>"
      ],
      "text/plain": [
       "      Key Entrez_protein_id                       ID  \\\n",
       "0   Fras1         126157515              NP_780682.3   \n",
       "1  Ifna13          81871051  sp|Q80SU4.1|IFNAD_MOUSE   \n",
       "2  Adgrl1         157739867              NP_851382.2   \n",
       "3   Erbb2          54873610           NP_001003817.1   \n",
       "4   Lamb1        1666305206              NP_032508.3   \n",
       "\n",
       "                                            Sequence                     Name  \\\n",
       "0  MGVLKAWLGVALALAEFAVLPNCEGACLYQGSFLADATIWKPDSCQ...              NP_780682.3   \n",
       "1  MARPCAFLMVLVVLSYWSACSLGCDLPQTHNLRNKRALTLLEQMRR...  sp|Q80SU4.1|IFNAD_MOUSE   \n",
       "2  MARLAAALWSLCVTTVLVTSATQGLSRAGLPFGLMRRELACEGYPI...              NP_851382.2   \n",
       "3  MELAAWCRWGFLLALLSPGAAGTQVCTGTDMKLRLPASPETHLDML...           NP_001003817.1   \n",
       "4  MGLLQVFAFGVLALWGTRVCAQEPEFSYGCAEGSCYPATGDLLIGR...              NP_032508.3   \n",
       "\n",
       "                                         Description DBxRefs Gene Name Species  \n",
       "0  NP_780682.3 extracellular matrix organizing pr...      []     Fras1    mm10  \n",
       "1  sp|Q80SU4.1|IFNAD_MOUSE RecName: Full=Interfer...      []    Ifna13    mm10  \n",
       "2  NP_851382.2 adhesion G protein-coupled recepto...      []    Adgrl1    mm10  \n",
       "3  NP_001003817.1 receptor tyrosine-protein kinas...      []     Erbb2    mm10  \n",
       "4  NP_032508.3 laminin subunit beta-1 precursor [...      []     Lamb1    mm10  "
      ]
     },
     "execution_count": 34,
     "metadata": {},
     "output_type": "execute_result"
    }
   ],
   "source": [
    "# Create a list of rows for the DataFrame\n",
    "data = []\n",
    "for key, value in gene_portein_dict.items():\n",
    "    if isinstance(value, tuple):  # Ensure it's a tuple of length 2\n",
    "        identifier, record = value\n",
    "        # Find the corresponding tuple from the unique_genes set\n",
    "        gene_tuple = next(((gene_name, species) for gene_name, species in unique_genes if gene_name == key), (None, None))\n",
    "\n",
    "        # Unpack gene_tuple safely\n",
    "        gene_name = gene_tuple[0] if gene_tuple[0] is not None else ''\n",
    "        species = gene_tuple[1] if gene_tuple[1] is not None else ''\n",
    "        \n",
    "        # Create the row with all relevant data\n",
    "        row = {\n",
    "            'Key': key,\n",
    "            'Entrez_protein_id': identifier,\n",
    "            'ID': record.id,\n",
    "            'Sequence': str(record.seq),\n",
    "            'Name': record.name,\n",
    "            'Description': record.description,\n",
    "            'DBxRefs': record.dbxrefs,\n",
    "            'Gene Name': gene_name,  # First element from unique_genes tuple\n",
    "            'Species': species        # Second element from unique_genes tuple\n",
    "        }\n",
    "        data.append(row)\n",
    "\n",
    "df_proteins = pd.DataFrame(data)\n",
    "df_proteins.to_csv(\"cell-cell-data/cellchat_proteins.csv\")\n",
    "df_proteins.head()\n"
   ]
  },
  {
   "cell_type": "code",
   "execution_count": 44,
   "metadata": {},
   "outputs": [
    {
     "name": "stdout",
     "output_type": "stream",
     "text": [
      "60 {'H2-M10.3', 'Gm5160', 'Ceacam6', 'Gm15448', 'LOC638105', 'Gm5868', 'Raet1l', 'LOC15965', 'Gm5678', 'mt-Rnr2', 'LOC321021', 'Il37', 'LOC15974', 'Ccl3l1', 'Klra11', 'OTTMUSG00000007662', 'Htr3e', 'Ccl21d', 'LOC230396', 'Ceacam8', 'Adgre2', 'Ulbp2', 'H2-T9', 'LOC242519', 'Htr3d', 'Lilrb2', 'Ccl21', 'Ncr3-ps', 'LOC215728', 'LOC14599', 'Clec2b', 'Gm21104', 'LOC15968', 'Ccl14', 'Htr1e', 'Ccl18', 'Cbr1b', 'Cxcl8', 'LOC242517', 'LOC68165', 'LOC330122', 'Lilrb1', 'LOC100861969', 'Pcdha4b', 'LOC545655', 'LOC406211', 'H2-T-ps', 'Ccl15', 'Il26', 'Klra', 'Ccl16', 'LOC230403', 'H2-T18', 'Sirpg', 'Fas', 'Raet1g', 'LOC547343', 'LOC245615', 'Htr3c', 'LOC230398'}\n"
     ]
    }
   ],
   "source": [
    "missing_protiens = set([x[0] for x in unique_genes]) - set(df_proteins[\"Key\"].values) \n",
    "print(len(missing_protiens), missing_protiens)"
   ]
  },
  {
   "cell_type": "code",
   "execution_count": 81,
   "metadata": {},
   "outputs": [],
   "source": [
    "\n",
    "gene_portein_dict = df_proteins.set_index('Key')[\"Sequence\"].to_dict()\n",
    "ortho_merged_df[\"found_protein\"] = ortho_merged_df.apply(\n",
    "    lambda row: not (any(gene in missing_protiens for gene in row['ligand_list']) or\n",
    "                     any(gene in missing_protiens for gene in row['receptor_list'])),\n",
    "    axis=1\n",
    ")\n",
    "ortho_merged_df[\"count_tokens\"] = ortho_merged_df.apply(\n",
    "    lambda row: sum(len(gene_portein_dict.get(gene, \"\")) for gene in row['ligand_list'] + row['receptor_list']),\n",
    "    axis=1\n",
    ")\n"
   ]
  },
  {
   "cell_type": "code",
   "execution_count": 91,
   "metadata": {},
   "outputs": [
    {
     "data": {
      "text/plain": [
       "<Axes: >"
      ]
     },
     "execution_count": 91,
     "metadata": {},
     "output_type": "execute_result"
    },
    {
     "data": {
      "image/png": "[encoded data removed]",
      "text/plain": [
       "<Figure size 640x480 with 1 Axes>"
      ]
     },
     "metadata": {},
     "output_type": "display_data"
    }
   ],
   "source": [
    "ortho_merged_df[\"count_tokens\"].hist(bins=100)"
   ]
  },
  {
   "cell_type": "code",
   "execution_count": 88,
   "metadata": {},
   "outputs": [
    {
     "data": {
      "text/html": [
       "<div>\n",
       "<style scoped>\n",
       "    .dataframe tbody tr th:only-of-type {\n",
       "        vertical-align: middle;\n",
       "    }\n",
       "\n",
       "    .dataframe tbody tr th {\n",
       "        vertical-align: top;\n",
       "    }\n",
       "\n",
       "    .dataframe thead th {\n",
       "        text-align: right;\n",
       "    }\n",
       "</style>\n",
       "<table border=\"1\" class=\"dataframe\">\n",
       "  <thead>\n",
       "    <tr style=\"text-align: right;\">\n",
       "      <th></th>\n",
       "      <th>source</th>\n",
       "      <th>target</th>\n",
       "      <th>source_target</th>\n",
       "      <th>Lspecies_Rspecies</th>\n",
       "      <th>ligand</th>\n",
       "      <th>receptor</th>\n",
       "      <th>prob</th>\n",
       "      <th>pval</th>\n",
       "      <th>interaction_name</th>\n",
       "      <th>ligand_2</th>\n",
       "      <th>receptor_2</th>\n",
       "      <th>pathway_name</th>\n",
       "      <th>annotation</th>\n",
       "      <th>evidence</th>\n",
       "      <th>ligand_species</th>\n",
       "      <th>receptor_species</th>\n",
       "      <th>interaction_name_2</th>\n",
       "      <th>lig_1k</th>\n",
       "      <th>recep1_1k</th>\n",
       "      <th>recep2_1k</th>\n",
       "    </tr>\n",
       "  </thead>\n",
       "  <tbody>\n",
       "    <tr>\n",
       "      <th>0</th>\n",
       "      <td>D3</td>\n",
       "      <td>D3</td>\n",
       "      <td>D3_D3</td>\n",
       "      <td>Human_Human</td>\n",
       "      <td>GRCH38.AGRN</td>\n",
       "      <td>GRCH38.DAG1</td>\n",
       "      <td>0.000072</td>\n",
       "      <td>0.0</td>\n",
       "      <td>AGRN_DAG1</td>\n",
       "      <td>GRCH38.AGRN</td>\n",
       "      <td>GRCH38.DAG1</td>\n",
       "      <td>AGRN</td>\n",
       "      <td>ECM-Receptor</td>\n",
       "      <td>KEGG: hsa04512</td>\n",
       "      <td>Human</td>\n",
       "      <td>Human</td>\n",
       "      <td>GRCH38.AGRN - GRCH38.DAG1</td>\n",
       "      <td>h3</td>\n",
       "      <td>h2</td>\n",
       "      <td>NaN</td>\n",
       "    </tr>\n",
       "    <tr>\n",
       "      <th>1</th>\n",
       "      <td>D3</td>\n",
       "      <td>D3</td>\n",
       "      <td>D3_D3</td>\n",
       "      <td>Human_Human</td>\n",
       "      <td>GRCH38.AGRN</td>\n",
       "      <td>GRCH38.DAG1</td>\n",
       "      <td>0.000072</td>\n",
       "      <td>0.0</td>\n",
       "      <td>AGRN_DAG1</td>\n",
       "      <td>GRCH38.AGRN</td>\n",
       "      <td>GRCH38.DAG1</td>\n",
       "      <td>AGRN</td>\n",
       "      <td>ECM-Receptor</td>\n",
       "      <td>KEGG: hsa04512</td>\n",
       "      <td>Human</td>\n",
       "      <td>Human</td>\n",
       "      <td>GRCH38.AGRN - GRCH38.DAG1</td>\n",
       "      <td>h10</td>\n",
       "      <td>h3</td>\n",
       "      <td>NaN</td>\n",
       "    </tr>\n",
       "    <tr>\n",
       "      <th>2</th>\n",
       "      <td>D3</td>\n",
       "      <td>D3</td>\n",
       "      <td>D3_D3</td>\n",
       "      <td>Human_Human</td>\n",
       "      <td>GRCH38.AGRN</td>\n",
       "      <td>GRCH38.DAG1</td>\n",
       "      <td>0.000072</td>\n",
       "      <td>0.0</td>\n",
       "      <td>AGRN_DAG1</td>\n",
       "      <td>GRCH38.AGRN</td>\n",
       "      <td>GRCH38.DAG1</td>\n",
       "      <td>AGRN</td>\n",
       "      <td>ECM-Receptor</td>\n",
       "      <td>KEGG: hsa04512</td>\n",
       "      <td>Human</td>\n",
       "      <td>Human</td>\n",
       "      <td>GRCH38.AGRN - GRCH38.DAG1</td>\n",
       "      <td>NaN</td>\n",
       "      <td>h10</td>\n",
       "      <td>NaN</td>\n",
       "    </tr>\n",
       "    <tr>\n",
       "      <th>3</th>\n",
       "      <td>D3</td>\n",
       "      <td>D3</td>\n",
       "      <td>D3_D3</td>\n",
       "      <td>Human_Human</td>\n",
       "      <td>GRCH38.AGRN</td>\n",
       "      <td>GRCH38.DAG1</td>\n",
       "      <td>0.000072</td>\n",
       "      <td>0.0</td>\n",
       "      <td>AGRN_DAG1</td>\n",
       "      <td>GRCH38.AGRN</td>\n",
       "      <td>GRCH38.DAG1</td>\n",
       "      <td>AGRN</td>\n",
       "      <td>ECM-Receptor</td>\n",
       "      <td>KEGG: hsa04512</td>\n",
       "      <td>Human</td>\n",
       "      <td>Human</td>\n",
       "      <td>GRCH38.AGRN - GRCH38.DAG1</td>\n",
       "      <td>NaN</td>\n",
       "      <td>h11</td>\n",
       "      <td>NaN</td>\n",
       "    </tr>\n",
       "    <tr>\n",
       "      <th>4</th>\n",
       "      <td>D4</td>\n",
       "      <td>D4</td>\n",
       "      <td>D4_D4</td>\n",
       "      <td>Human_Human</td>\n",
       "      <td>GRCH38.AGRN</td>\n",
       "      <td>GRCH38.DAG1</td>\n",
       "      <td>0.001152</td>\n",
       "      <td>0.0</td>\n",
       "      <td>AGRN_DAG1</td>\n",
       "      <td>GRCH38.AGRN</td>\n",
       "      <td>GRCH38.DAG1</td>\n",
       "      <td>AGRN</td>\n",
       "      <td>ECM-Receptor</td>\n",
       "      <td>KEGG: hsa04512</td>\n",
       "      <td>Human</td>\n",
       "      <td>Human</td>\n",
       "      <td>GRCH38.AGRN - GRCH38.DAG1</td>\n",
       "      <td>h3</td>\n",
       "      <td>h2</td>\n",
       "      <td>NaN</td>\n",
       "    </tr>\n",
       "  </tbody>\n",
       "</table>\n",
       "</div>"
      ],
      "text/plain": [
       "  source target source_target Lspecies_Rspecies       ligand     receptor  \\\n",
       "0     D3     D3         D3_D3       Human_Human  GRCH38.AGRN  GRCH38.DAG1   \n",
       "1     D3     D3         D3_D3       Human_Human  GRCH38.AGRN  GRCH38.DAG1   \n",
       "2     D3     D3         D3_D3       Human_Human  GRCH38.AGRN  GRCH38.DAG1   \n",
       "3     D3     D3         D3_D3       Human_Human  GRCH38.AGRN  GRCH38.DAG1   \n",
       "4     D4     D4         D4_D4       Human_Human  GRCH38.AGRN  GRCH38.DAG1   \n",
       "\n",
       "       prob  pval interaction_name     ligand_2   receptor_2 pathway_name  \\\n",
       "0  0.000072   0.0        AGRN_DAG1  GRCH38.AGRN  GRCH38.DAG1         AGRN   \n",
       "1  0.000072   0.0        AGRN_DAG1  GRCH38.AGRN  GRCH38.DAG1         AGRN   \n",
       "2  0.000072   0.0        AGRN_DAG1  GRCH38.AGRN  GRCH38.DAG1         AGRN   \n",
       "3  0.000072   0.0        AGRN_DAG1  GRCH38.AGRN  GRCH38.DAG1         AGRN   \n",
       "4  0.001152   0.0        AGRN_DAG1  GRCH38.AGRN  GRCH38.DAG1         AGRN   \n",
       "\n",
       "     annotation        evidence ligand_species receptor_species  \\\n",
       "0  ECM-Receptor  KEGG: hsa04512          Human            Human   \n",
       "1  ECM-Receptor  KEGG: hsa04512          Human            Human   \n",
       "2  ECM-Receptor  KEGG: hsa04512          Human            Human   \n",
       "3  ECM-Receptor  KEGG: hsa04512          Human            Human   \n",
       "4  ECM-Receptor  KEGG: hsa04512          Human            Human   \n",
       "\n",
       "          interaction_name_2 lig_1k recep1_1k recep2_1k  \n",
       "0  GRCH38.AGRN - GRCH38.DAG1     h3        h2       NaN  \n",
       "1  GRCH38.AGRN - GRCH38.DAG1    h10        h3       NaN  \n",
       "2  GRCH38.AGRN - GRCH38.DAG1    NaN       h10       NaN  \n",
       "3  GRCH38.AGRN - GRCH38.DAG1    NaN       h11       NaN  \n",
       "4  GRCH38.AGRN - GRCH38.DAG1     h3        h2       NaN  "
      ]
     },
     "execution_count": 88,
     "metadata": {},
     "output_type": "execute_result"
    }
   ],
   "source": [
    "### Select important pathways from paper \n",
    "\n",
    "paper_interactions1=pd.read_csv(\"cell-cell-data/varsha_cellchat/paper_interactions_1.csv\")\n",
    "paper_interactions2=pd.read_csv(\"cell-cell-data/varsha_cellchat/paper_interactions_2.csv\")\n",
    "paper_pathways = list(set(paper_interactions2['pathway_name'].unique().tolist() + paper_interactions1['pathway_name'].unique().tolist()))\n",
    "paper_interactions1.head()"
   ]
  },
  {
   "cell_type": "code",
   "execution_count": 114,
   "metadata": {},
   "outputs": [
    {
     "name": "stdout",
     "output_type": "stream",
     "text": [
      "8859\n"
     ]
    }
   ],
   "source": [
    "\n",
    "ortho_merged_df['interaction_name'] = ortho_merged_df.apply(\n",
    "        lambda row:f\"{'_'.join(row['ligand_list']).upper()}_{'_'.join(row['receptor_list']).upper()}_{row['ligand_type']}_{row['receptor_type']}\",\n",
    "        axis=1\n",
    ")\n",
    "\n",
    "ortho_merged_df[\"selected_interaction\"] = ortho_merged_df['pathway_name'].apply(lambda x: x in paper_pathways)\n",
    "# Identify duplicates in the 'interaction_name' column\n",
    "ortho_merged_df['is_duplicate'] = ortho_merged_df.duplicated(subset='interaction_name', keep=False)\n",
    "# Create a column marking one of the duplicates to be removed (keeping only the first occurrence)\n",
    "ortho_merged_df['to_remove'] = ortho_merged_df.duplicated(subset='interaction_name', keep='first')\n",
    "\n",
    "ortho_merged_df = ortho_merged_df.sort_values(\n",
    "    ['to_remove', 'pathway_name', 'selected_interaction'], \n",
    "    ascending=[True, False, False]\n",
    ")\n",
    "\n",
    "\n",
    "ortho_merged_df = ortho_merged_df.reset_index()     \n",
    "ortho_merged_df[\"job_name\"] = ortho_merged_df.apply(\n",
    "        lambda row:f\"Job{row.name}_{row['interaction_name']}\",\n",
    "        axis=1\n",
    ")\n",
    "\n",
    "\n",
    "ortho_merged_df = ortho_merged_df.drop(['index', 'Unnamed: 0'], axis=1)\n",
    "ortho_merged_df.to_csv(\"cell-cell-data/cellchat_interactions_ortho_v2024.csv\")"
   ]
  },
  {
   "cell_type": "markdown",
   "metadata": {},
   "source": [
    "## 3. Prepare for AlphaFold3"
   ]
  },
  {
   "cell_type": "code",
   "execution_count": 1,
   "metadata": {},
   "outputs": [
    {
     "name": "stderr",
     "output_type": "stream",
     "text": [
      "C:\\Users\\alyos\\AppData\\Local\\Temp\\ipykernel_16964\\1979898712.py:14: DtypeWarning: Columns (5,33) have mixed types. Specify dtype option on import or set low_memory=False.\n",
      "  ortho_merged_df = pd.read_csv(\"cell-cell-data/cellchat_interactions_ortho_v2024.csv\", index_col=0)\n"
     ]
    },
    {
     "data": {
      "text/html": [
       "<div>\n",
       "<style scoped>\n",
       "    .dataframe tbody tr th:only-of-type {\n",
       "        vertical-align: middle;\n",
       "    }\n",
       "\n",
       "    .dataframe tbody tr th {\n",
       "        vertical-align: top;\n",
       "    }\n",
       "\n",
       "    .dataframe thead th {\n",
       "        text-align: right;\n",
       "    }\n",
       "</style>\n",
       "<table border=\"1\" class=\"dataframe\">\n",
       "  <thead>\n",
       "    <tr style=\"text-align: right;\">\n",
       "      <th></th>\n",
       "      <th>interaction_name</th>\n",
       "      <th>pathway_name</th>\n",
       "      <th>ligand</th>\n",
       "      <th>receptor</th>\n",
       "      <th>agonist</th>\n",
       "      <th>antagonist</th>\n",
       "      <th>co_A_receptor</th>\n",
       "      <th>co_I_receptor</th>\n",
       "      <th>evidence</th>\n",
       "      <th>annotation</th>\n",
       "      <th>...</th>\n",
       "      <th>agonist_list</th>\n",
       "      <th>antagonist_list</th>\n",
       "      <th>co_A_receptor_list</th>\n",
       "      <th>co_I_receptor_list</th>\n",
       "      <th>found_protein</th>\n",
       "      <th>count_tokens</th>\n",
       "      <th>job_name</th>\n",
       "      <th>selected_interaction</th>\n",
       "      <th>is_duplicate</th>\n",
       "      <th>to_remove</th>\n",
       "    </tr>\n",
       "  </thead>\n",
       "  <tbody>\n",
       "    <tr>\n",
       "      <th>0</th>\n",
       "      <td>WNT11_FZD4_mm10_GRCh38</td>\n",
       "      <td>ncWNT</td>\n",
       "      <td>Wnt11</td>\n",
       "      <td>Fzd4</td>\n",
       "      <td>NaN</td>\n",
       "      <td>NaN</td>\n",
       "      <td>ncWNT activation receptor</td>\n",
       "      <td>NaN</td>\n",
       "      <td>KEGG: mmu04310</td>\n",
       "      <td>Secreted Signaling</td>\n",
       "      <td>...</td>\n",
       "      <td>NaN</td>\n",
       "      <td>NaN</td>\n",
       "      <td>[Ryk, Ror2, Ror1]</td>\n",
       "      <td>NaN</td>\n",
       "      <td>True</td>\n",
       "      <td>722</td>\n",
       "      <td>Job0_WNT11_FZD4_mm10_GRCh38</td>\n",
       "      <td>True</td>\n",
       "      <td>True</td>\n",
       "      <td>False</td>\n",
       "    </tr>\n",
       "    <tr>\n",
       "      <th>1</th>\n",
       "      <td>WNT5B_FZD9_mm10_mm10</td>\n",
       "      <td>ncWNT</td>\n",
       "      <td>Wnt5b</td>\n",
       "      <td>Fzd9</td>\n",
       "      <td>NaN</td>\n",
       "      <td>NaN</td>\n",
       "      <td>ncWNT activation receptor</td>\n",
       "      <td>NaN</td>\n",
       "      <td>KEGG: mmu04310</td>\n",
       "      <td>Secreted Signaling</td>\n",
       "      <td>...</td>\n",
       "      <td>NaN</td>\n",
       "      <td>NaN</td>\n",
       "      <td>[Ryk, Ror2, Ror1]</td>\n",
       "      <td>NaN</td>\n",
       "      <td>True</td>\n",
       "      <td>951</td>\n",
       "      <td>Job1_WNT5B_FZD9_mm10_mm10</td>\n",
       "      <td>True</td>\n",
       "      <td>False</td>\n",
       "      <td>False</td>\n",
       "    </tr>\n",
       "    <tr>\n",
       "      <th>2</th>\n",
       "      <td>WNT5B_FZD8_mm10_mm10</td>\n",
       "      <td>ncWNT</td>\n",
       "      <td>Wnt5b</td>\n",
       "      <td>Fzd8</td>\n",
       "      <td>NaN</td>\n",
       "      <td>NaN</td>\n",
       "      <td>ncWNT activation receptor</td>\n",
       "      <td>NaN</td>\n",
       "      <td>KEGG: mmu04310</td>\n",
       "      <td>Secreted Signaling</td>\n",
       "      <td>...</td>\n",
       "      <td>NaN</td>\n",
       "      <td>NaN</td>\n",
       "      <td>[Ryk, Ror2, Ror1]</td>\n",
       "      <td>NaN</td>\n",
       "      <td>True</td>\n",
       "      <td>1044</td>\n",
       "      <td>Job2_WNT5B_FZD8_mm10_mm10</td>\n",
       "      <td>True</td>\n",
       "      <td>False</td>\n",
       "      <td>False</td>\n",
       "    </tr>\n",
       "    <tr>\n",
       "      <th>3</th>\n",
       "      <td>WNT5B_FZD7_mm10_mm10</td>\n",
       "      <td>ncWNT</td>\n",
       "      <td>Wnt5b</td>\n",
       "      <td>Fzd7</td>\n",
       "      <td>NaN</td>\n",
       "      <td>NaN</td>\n",
       "      <td>ncWNT activation receptor</td>\n",
       "      <td>NaN</td>\n",
       "      <td>KEGG: mmu04310</td>\n",
       "      <td>Secreted Signaling</td>\n",
       "      <td>...</td>\n",
       "      <td>NaN</td>\n",
       "      <td>NaN</td>\n",
       "      <td>[Ryk, Ror2, Ror1]</td>\n",
       "      <td>NaN</td>\n",
       "      <td>True</td>\n",
       "      <td>931</td>\n",
       "      <td>Job3_WNT5B_FZD7_mm10_mm10</td>\n",
       "      <td>True</td>\n",
       "      <td>False</td>\n",
       "      <td>False</td>\n",
       "    </tr>\n",
       "    <tr>\n",
       "      <th>4</th>\n",
       "      <td>WNT5B_FZD6_mm10_mm10</td>\n",
       "      <td>ncWNT</td>\n",
       "      <td>Wnt5b</td>\n",
       "      <td>Fzd6</td>\n",
       "      <td>NaN</td>\n",
       "      <td>NaN</td>\n",
       "      <td>ncWNT activation receptor</td>\n",
       "      <td>NaN</td>\n",
       "      <td>KEGG: mmu04310</td>\n",
       "      <td>Secreted Signaling</td>\n",
       "      <td>...</td>\n",
       "      <td>NaN</td>\n",
       "      <td>NaN</td>\n",
       "      <td>[Ryk, Ror2, Ror1]</td>\n",
       "      <td>NaN</td>\n",
       "      <td>True</td>\n",
       "      <td>1068</td>\n",
       "      <td>Job4_WNT5B_FZD6_mm10_mm10</td>\n",
       "      <td>True</td>\n",
       "      <td>False</td>\n",
       "      <td>False</td>\n",
       "    </tr>\n",
       "  </tbody>\n",
       "</table>\n",
       "<p>5 rows × 42 columns</p>\n",
       "</div>"
      ],
      "text/plain": [
       "         interaction_name pathway_name ligand receptor agonist antagonist  \\\n",
       "0  WNT11_FZD4_mm10_GRCh38        ncWNT  Wnt11     Fzd4     NaN        NaN   \n",
       "1    WNT5B_FZD9_mm10_mm10        ncWNT  Wnt5b     Fzd9     NaN        NaN   \n",
       "2    WNT5B_FZD8_mm10_mm10        ncWNT  Wnt5b     Fzd8     NaN        NaN   \n",
       "3    WNT5B_FZD7_mm10_mm10        ncWNT  Wnt5b     Fzd7     NaN        NaN   \n",
       "4    WNT5B_FZD6_mm10_mm10        ncWNT  Wnt5b     Fzd6     NaN        NaN   \n",
       "\n",
       "               co_A_receptor co_I_receptor        evidence  \\\n",
       "0  ncWNT activation receptor           NaN  KEGG: mmu04310   \n",
       "1  ncWNT activation receptor           NaN  KEGG: mmu04310   \n",
       "2  ncWNT activation receptor           NaN  KEGG: mmu04310   \n",
       "3  ncWNT activation receptor           NaN  KEGG: mmu04310   \n",
       "4  ncWNT activation receptor           NaN  KEGG: mmu04310   \n",
       "\n",
       "           annotation  ... agonist_list  antagonist_list co_A_receptor_list  \\\n",
       "0  Secreted Signaling  ...          NaN              NaN  [Ryk, Ror2, Ror1]   \n",
       "1  Secreted Signaling  ...          NaN              NaN  [Ryk, Ror2, Ror1]   \n",
       "2  Secreted Signaling  ...          NaN              NaN  [Ryk, Ror2, Ror1]   \n",
       "3  Secreted Signaling  ...          NaN              NaN  [Ryk, Ror2, Ror1]   \n",
       "4  Secreted Signaling  ...          NaN              NaN  [Ryk, Ror2, Ror1]   \n",
       "\n",
       "  co_I_receptor_list found_protein count_tokens                     job_name  \\\n",
       "0                NaN          True          722  Job0_WNT11_FZD4_mm10_GRCh38   \n",
       "1                NaN          True          951    Job1_WNT5B_FZD9_mm10_mm10   \n",
       "2                NaN          True         1044    Job2_WNT5B_FZD8_mm10_mm10   \n",
       "3                NaN          True          931    Job3_WNT5B_FZD7_mm10_mm10   \n",
       "4                NaN          True         1068    Job4_WNT5B_FZD6_mm10_mm10   \n",
       "\n",
       "  selected_interaction is_duplicate to_remove  \n",
       "0                 True         True     False  \n",
       "1                 True        False     False  \n",
       "2                 True        False     False  \n",
       "3                 True        False     False  \n",
       "4                 True        False     False  \n",
       "\n",
       "[5 rows x 42 columns]"
      ]
     },
     "execution_count": 1,
     "metadata": {},
     "output_type": "execute_result"
    }
   ],
   "source": [
    "import os\n",
    "import pandas as pd\n",
    "import ast  # To safely evaluate strings that represent lists\n",
    "\n",
    "# Function to parse string to list, leaving NaN values unchanged\n",
    "def parse_list_column(column):\n",
    "    return column.apply(lambda x: ast.literal_eval(x) if pd.notna(x) and isinstance(x, str) else x)\n",
    "\n",
    "\n",
    "\n",
    "df_proteins = pd.read_csv(\"cell-cell-data/cellchat_proteins.csv\", index_col=0)\n",
    "gene_portein_dict = df_proteins.set_index('Key')[\"Sequence\"].to_dict()\n",
    "\n",
    "ortho_merged_df = pd.read_csv(\"cell-cell-data/cellchat_interactions_ortho_v2024.csv\", index_col=0)\n",
    "for column in ortho_merged_df.columns:\n",
    "    if(\"list\" in column):\n",
    "        ortho_merged_df[column] = parse_list_column(ortho_merged_df[column] )\n",
    "\n",
    "ortho_merged_df.head()"
   ]
  },
  {
   "cell_type": "code",
   "execution_count": 2,
   "metadata": {},
   "outputs": [
    {
     "data": {
      "text/plain": [
       "(19839, 13546, 6053)"
      ]
     },
     "execution_count": 2,
     "metadata": {},
     "output_type": "execute_result"
    }
   ],
   "source": [
    "len(ortho_merged_df), len(ortho_merged_df[ortho_merged_df[\"to_remove\"] == False]), len(ortho_merged_df[(ortho_merged_df[\"to_remove\"] == False)&(ortho_merged_df[\"selected_interaction\"] == True) ])"
   ]
  },
  {
   "cell_type": "code",
   "execution_count": null,
   "metadata": {},
   "outputs": [],
   "source": [
    "def generate_json_from_df(df, gene_protein_dict, use_sito_info=False):\n",
    "    job_list = []\n",
    "\n",
    "    for _, row in df.iterrows():\n",
    "        ligands = row['ligand_list']\n",
    "        receptors = row['receptor_list']\n",
    "        job_name = row['sito_job_name'] if use_sito_info else row['job_name']\n",
    "        \n",
    "        ligand_copy = row['sito_ligand'] if use_sito_info else 1\n",
    "        receptor_copy = row['sito_receptor'] if use_sito_info else 1\n",
    "\n",
    "        sequences = []\n",
    "\n",
    "        for ligand in ligands:\n",
    "            ligand_seq = gene_protein_dict.get(ligand, \"\")\n",
    "            sequences.append({\n",
    "                \"proteinChain\": {\n",
    "                    \"sequence\": ligand_seq,\n",
    "                    \"count\": int(ligand_copy)\n",
    "                }\n",
    "            })\n",
    "\n",
    "        for receptor in receptors:\n",
    "            receptor_seq = gene_protein_dict.get(receptor, \"\")\n",
    "            sequences.append({\n",
    "                \"proteinChain\": {\n",
    "                    \"sequence\": receptor_seq,\n",
    "                    \"count\": int(receptor_copy)\n",
    "                }\n",
    "            })\n",
    "\n",
    "        job = {\n",
    "            \"name\": job_name,\n",
    "            \"modelSeeds\": [],\n",
    "            \"sequences\": sequences\n",
    "        }\n",
    "\n",
    "        job_list.append(job)\n",
    "\n",
    "    return job_list\n",
    "\n",
    "\n",
    "\n",
    "subset_interactions_alphafold3 = ortho_merged_df[(ortho_merged_df[\"found_protein\"]==True) &\n",
    "                                                (ortho_merged_df[\"count_tokens\"]<5000) &\n",
    "                                                (ortho_merged_df[\"to_remove\"] == False)]\n"
   ]
  },
  {
   "cell_type": "code",
   "execution_count": 4,
   "metadata": {},
   "outputs": [
    {
     "name": "stderr",
     "output_type": "stream",
     "text": [
      "C:\\Users\\alyos\\AppData\\Local\\Temp\\ipykernel_16964\\1667697679.py:19: SettingWithCopyWarning: \n",
      "A value is trying to be set on a copy of a slice from a DataFrame.\n",
      "Try using .loc[row_indexer,col_indexer] = value instead\n",
      "\n",
      "See the caveats in the documentation: https://pandas.pydata.org/pandas-docs/stable/user_guide/indexing.html#returning-a-view-versus-a-copy\n",
      "  filtered_df[\"result_job_name\"] = filtered_df['job_name'].apply(lambda x: x.lower().replace('-', '_'))\n"
     ]
    }
   ],
   "source": [
    "ranges = [\n",
    "(1,999999999)\n",
    "]\n",
    "\n",
    "# Filter based on job_name\n",
    "def within_ranges(job_name, ranges):\n",
    "    # Extract the numeric part from the job name\n",
    "    try:\n",
    "        job_id = int(job_name.split('_')[0][3:])  # Extract number after \"Job\"\n",
    "        return any(start <= job_id <= end for start, end in ranges)\n",
    "    except ValueError:\n",
    "        return False\n",
    "\n",
    "# Apply the filter\n",
    "filtered_df = subset_interactions_alphafold3[\n",
    "    subset_interactions_alphafold3[\"job_name\"].apply(lambda x: within_ranges(x, ranges))\n",
    "]\n",
    "\n",
    "filtered_df[\"result_job_name\"] = filtered_df['job_name'].apply(lambda x: x.lower().replace('-', '_'))\n"
   ]
  },
  {
   "cell_type": "code",
   "execution_count": 5,
   "metadata": {},
   "outputs": [
    {
     "data": {
      "text/plain": [
       "13282"
      ]
     },
     "execution_count": 5,
     "metadata": {},
     "output_type": "execute_result"
    }
   ],
   "source": [
    "len(filtered_df)\n"
   ]
  },
  {
   "cell_type": "code",
   "execution_count": 6,
   "metadata": {},
   "outputs": [],
   "source": [
    "results_files = []\n",
    "results_dir = r'z:\\xenosignaldb\\alphafold_results'\n",
    "for job_name in os.listdir(results_dir):\n",
    "    results_files.append(job_name)\n",
    "\n",
    "subset_df = filtered_df[\n",
    "    ~filtered_df['result_job_name'].isin(results_files)\n",
    "]"
   ]
  },
  {
   "cell_type": "code",
   "execution_count": 7,
   "metadata": {},
   "outputs": [],
   "source": [
    "subset_df = subset_df[~subset_df.index.isin(range(4446, 5098))]\n"
   ]
  },
  {
   "cell_type": "code",
   "execution_count": 9,
   "metadata": {},
   "outputs": [],
   "source": [
    "\n",
    "jobs_list = generate_json_from_df(subset_df, gene_portein_dict)"
   ]
  },
  {
   "cell_type": "code",
   "execution_count": 10,
   "metadata": {},
   "outputs": [],
   "source": [
    "import os\n",
    "import json\n",
    "\n",
    "def save_chunks_to_json(data_list, dir_name, chunk_size=100):\n",
    "    # Create directory if it doesn't exist\n",
    "    os.makedirs(dir_name, exist_ok=True)\n",
    "\n",
    "    # Chunk the data\n",
    "    for i in range(0, len(data_list), chunk_size):\n",
    "        chunk = data_list[i:i + chunk_size]\n",
    "        file_name = os.path.join(dir_name, f'chunk_{i // chunk_size + 1}.json')\n",
    "\n",
    "        # Save the chunk to a JSON file\n",
    "        with open(file_name, 'w') as json_file:\n",
    "            json.dump(chunk, json_file, indent=4)\n",
    "\n",
    "save_chunks_to_json(jobs_list, 'output_interactions_last_chunk', chunk_size=20)"
   ]
  },
  {
   "cell_type": "markdown",
   "metadata": {},
   "source": []
  }
 ],
 "metadata": {
  "kernelspec": {
   "display_name": "bio_ai",
   "language": "python",
   "name": "python3"
  },
  "language_info": {
   "codemirror_mode": {
    "name": "ipython",
    "version": 3
   },
   "file_extension": ".py",
   "mimetype": "text/x-python",
   "name": "python",
   "nbconvert_exporter": "python",
   "pygments_lexer": "ipython3",
   "version": "3.12.3"
  }
 },
 "nbformat": 4,
 "nbformat_minor": 4
}
